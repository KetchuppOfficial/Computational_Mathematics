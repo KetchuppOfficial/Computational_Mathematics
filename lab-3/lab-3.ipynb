{
 "cells": [
  {
   "cell_type": "markdown",
   "metadata": {},
   "source": [
    "# Laboratory work 3: Nonlinear equations and systems\n",
    "\n",
    "---\n",
    "\n",
    "## Work objective:\n",
    "\n",
    "1) To solve a nonlinear equation and a nonlinear system using 2 methods: fixed-point iteration and Newton's method;\n",
    "\n",
    "2) To verify obtained results via calculating residuals.\n",
    "\n",
    "## Given nonlinear equation\n",
    "\n",
    "\\begin{equation}\n",
    "    x^2 - \\frac{e^x}{5} = 0\n",
    "\\end{equation}\n",
    "\n",
    "## Given nonlinear system\n",
    "\n",
    "\\begin{cases}\n",
    "    \\tg{(xy + 0.4)} = x^2 \\\\\n",
    "    0.6 \\cdot x^2 + 2 y^2 = 1\n",
    "\\end{cases}\n",
    "\n",
    "---\n",
    "\n",
    "## Solving nonlinear equation\n",
    "\n",
    "Let $f(x) = x^2 - \\frac{e^x}{5}$, then $f(0) = -\\frac{1}{5} < 0$, $f(1) = 1 - \\frac{e}{5} > 0$,\n",
    "$f(-1) = 1 - \\frac{1}{5e} > 0$. Consequently, equation (1) has a root on interval (-1, 0) and a root\n",
    "on interval (0, 1). Based on the graphs of functions $x^2$ and $\\frac{e^x}{5}$ we conclude that each\n",
    "of the mentioned intervals contains only one root of equation (1) and this equation doesn't have any\n",
    "other roots.\n",
    "\n",
    "\\begin{equation*}\n",
    "    x^2 - \\frac{e^x}{5} = 0 \\iff x^2 = \\frac{e^x}{5} \\iff x = \\sqrt{\\frac{e^x}{5}}\n",
    "\\end{equation*}\n",
    "\n",
    "Let's say:\n",
    "\\begin{equation*}\n",
    "    g(x_k) = x_{k + 1} = \\sqrt{\\frac{e^{x_k}}{5}}\n",
    "\\end{equation*}\n",
    "\n",
    "\\begin{equation*}\n",
    "    |g'(x_k)| = \\frac{1}{2}\\sqrt{\\frac{e^{x_k}}{5}}\n",
    "\\end{equation*}\n",
    "\n",
    "As far as $|g'(0)| \\approx 0.22$, $|g'(1)| \\approx 0.37$ and $|g'(x_k)|$ is a monotonic function:\n",
    "\\begin{equation*}\n",
    "    \\forall x \\in [0; 1] \\hookrightarrow |g'(x)| < 1\n",
    "\\end{equation*}\n",
    "\n",
    "Thus we can use $g(x_k)$ in fixed-point iteration method to calculate the root belonging to (0; 1).\n",
    "The sequence ${x_k}$ converges to the root for any starting point belonging to (0; 1). We will\n",
    "actually use $x_0 = 0.5$.\n",
    "\n",
    "We can analogously prove that $h(x_k) = -g(x_k)$ can be used in fixed-point iteration to calculate\n",
    "the root belonging to (-1; 0). In this case sequence ${x_k}$ converges to the root for any starting\n",
    "point belonging to (-1; 0). We will actually use $x_0 = -0.5$."
   ]
  },
  {
   "cell_type": "code",
   "execution_count": 21,
   "metadata": {},
   "outputs": [],
   "source": [
    "import numpy as np"
   ]
  },
  {
   "cell_type": "code",
   "execution_count": 22,
   "metadata": {},
   "outputs": [
    {
     "name": "stdout",
     "output_type": "stream",
     "text": [
      "x^2 - exp(x)/5 = 0 => x_1 = 0.6052664677776093, x_2 = -0.37141792950038294\n"
     ]
    }
   ],
   "source": [
    "def g_func (x):\n",
    "    return np.sqrt (np.power (np.e, x) / 5)\n",
    "\n",
    "def h_func (x):\n",
    "    return -g_func (x)\n",
    "\n",
    "def fixed_point_iteration (f, x_0, epsilon = 1e-6):\n",
    "    x = x_0\n",
    "    next_x = f(x)\n",
    "    while (abs(next_x - x) > epsilon):\n",
    "        x = next_x\n",
    "        next_x = f(x)\n",
    "\n",
    "    return x\n",
    "\n",
    "x_1 = fixed_point_iteration(g_func, 0.5)\n",
    "x_2 = fixed_point_iteration(h_func, -0.5)\n",
    "print (f\"x^2 - exp(x)/5 = 0 => x_1 = {x_1}, x_2 = {x_2}\")"
   ]
  }
 ],
 "metadata": {
  "kernelspec": {
   "display_name": "Python 3",
   "language": "python",
   "name": "python3"
  },
  "language_info": {
   "codemirror_mode": {
    "name": "ipython",
    "version": 3
   },
   "file_extension": ".py",
   "mimetype": "text/x-python",
   "name": "python",
   "nbconvert_exporter": "python",
   "pygments_lexer": "ipython3",
   "version": "3.10.12"
  }
 },
 "nbformat": 4,
 "nbformat_minor": 2
}
