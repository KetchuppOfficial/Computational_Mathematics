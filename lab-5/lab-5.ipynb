{
 "cells": [
  {
   "cell_type": "markdown",
   "metadata": {},
   "source": [
    "# Laboratory work 5: numerical integration\n",
    "\n",
    "---\n",
    "\n",
    "## Work objective:\n",
    "\n",
    "Given a function f(x) defined on segment $[a; b]$, calculate $\\int_{a}^{b} f(x)dx$ using:\n",
    "\n",
    "1) trapezoidal rule;\n",
    "2) refine the result by using Richardson extrapolation;\n",
    "3) compare refined result with the one gained from Simpson method.\n",
    "\n",
    "## Given function\n",
    "\n",
    "|   x   |   f(x)   |\n",
    "|:-----:|:--------:|\n",
    "| 0.00  | 1.000000 |\n",
    "| 0.25  | 0.989616 |\n",
    "| 0.50  | 0.958851 |\n",
    "| 0.75  | 0.908852 |\n",
    "| 1.00  | 0.841471 |\n",
    "| 1.25  | 0.759188 |\n",
    "| 1.50  | 0.664997 |\n",
    "| 1.75  | 0.562278 |\n",
    "| 2.00  | 0.454649 |\n",
    "\n",
    "Actually, if we look in the answers section to this task, we will find that $f(x) = \\frac{\\sin{x}}{x}$.\n",
    "So we will calculate its values instead of using precalculated ones.\n",
    "\n",
    "---"
   ]
  },
  {
   "cell_type": "markdown",
   "metadata": {},
   "source": [
    "## Input data"
   ]
  },
  {
   "cell_type": "code",
   "execution_count": 214,
   "metadata": {},
   "outputs": [],
   "source": [
    "import numpy as np\n",
    "\n",
    "def sinc(x):\n",
    "    if x == 0:\n",
    "        return 1\n",
    "    else:\n",
    "        return np.sin(x) / x\n",
    "\n",
    "a = 0\n",
    "b = 2\n",
    "h = 0.25\n",
    "trapezoidal_approx_order = 2"
   ]
  },
  {
   "cell_type": "markdown",
   "metadata": {},
   "source": [
    "## Trapezoidal rule"
   ]
  },
  {
   "cell_type": "code",
   "execution_count": 215,
   "metadata": {},
   "outputs": [],
   "source": [
    "def trapezoidal_rule(f, a, b, step):\n",
    "\n",
    "    x = np.arange(a, b + step, step)\n",
    "\n",
    "    return step * sum ((f(x[i + 1]) + f(x[i])) / 2 for i in range(len(x) - 1))"
   ]
  },
  {
   "cell_type": "markdown",
   "metadata": {},
   "source": [
    "## Richardson extrapolation"
   ]
  },
  {
   "cell_type": "code",
   "execution_count": 216,
   "metadata": {},
   "outputs": [],
   "source": [
    "def richardson_extrapolation(method, approx_order, f, a, b, step):\n",
    "\n",
    "    I_h = method(f, a, b, step)\n",
    "    I_2h = method(f, a, b, step * 2)\n",
    "\n",
    "    return I_h + (I_h - I_2h) / (2 ** approx_order - 1)"
   ]
  },
  {
   "cell_type": "markdown",
   "metadata": {},
   "source": [
    "## Simpson method"
   ]
  },
  {
   "cell_type": "code",
   "execution_count": 217,
   "metadata": {},
   "outputs": [],
   "source": [
    "def simpson_rule(f, a, b, step):\n",
    "\n",
    "    N = round((b - a) / step)\n",
    "    if N % 2 != 0:\n",
    "        raise RuntimeError(\"You should choose step so that [a; b] is divided to even number of segments\")\n",
    "\n",
    "    x = np.arange(a, b + step, step)\n",
    "\n",
    "    sum_1 = sum(f(x[2 * i]) for i in range(1, N // 2))\n",
    "    sum_2 = sum(f(x[2 * i - 1]) for i in range(1, N // 2 + 1))\n",
    "\n",
    "    return (step / 3) * (f(x[0]) + f(x[N]) + 2 * sum_1 + 4 * sum_2)"
   ]
  },
  {
   "cell_type": "markdown",
   "metadata": {},
   "source": [
    "## Results"
   ]
  },
  {
   "cell_type": "code",
   "execution_count": 218,
   "metadata": {},
   "outputs": [
    {
     "name": "stdout",
     "output_type": "stream",
     "text": [
      "I_h = 1.603143993230099\n",
      "I_2h = 1.5963215382293798\n",
      "I_r = 1.6054181448970055\n",
      "I_s = 1.6054181448970053\n",
      "|I_s - I_r| = 2.220446049250313e-16\n"
     ]
    }
   ],
   "source": [
    "I_h = trapezoidal_rule(sinc, a, b, h)\n",
    "I_2h = trapezoidal_rule(sinc, a, b, 2 * h)\n",
    "I_r = richardson_extrapolation(trapezoidal_rule, trapezoidal_approx_order, sinc, a, b, h)\n",
    "I_s = simpson_rule(sinc, a, b, h)\n",
    "\n",
    "print(f\"I_h = {I_h}\")\n",
    "print(f\"I_2h = {I_2h}\")\n",
    "print(f\"I_r = {I_r}\")\n",
    "print(f\"I_s = {I_s}\")\n",
    "\n",
    "print(f\"|I_s - I_r| = {abs(I_r - I_s)}\")"
   ]
  },
  {
   "cell_type": "markdown",
   "metadata": {},
   "source": [
    "## Conclusion\n",
    "\n",
    "We see that results of calculation the integral by Richardson extrapolation and Simpson's rule are\n",
    "equal with good accuracy as expected"
   ]
  }
 ],
 "metadata": {
  "kernelspec": {
   "display_name": "Python 3",
   "language": "python",
   "name": "python3"
  },
  "language_info": {
   "codemirror_mode": {
    "name": "ipython",
    "version": 3
   },
   "file_extension": ".py",
   "mimetype": "text/x-python",
   "name": "python",
   "nbconvert_exporter": "python",
   "pygments_lexer": "ipython3",
   "version": "3.10.12"
  }
 },
 "nbformat": 4,
 "nbformat_minor": 2
}
