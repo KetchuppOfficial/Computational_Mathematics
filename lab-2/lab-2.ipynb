{
 "cells": [
  {
   "cell_type": "markdown",
   "metadata": {},
   "source": [
    "# Laboratory work 2: Systems of linear equations\n",
    "\n",
    "---\n",
    "\n",
    "## Work objective:\n",
    "\n",
    "To solve a system of linear equations using a direct method (Gaussian elimination and LU\n",
    "decomposition if possible) and 3 iterative methods (Jacobi method, Seidel method, successive\n",
    "over-relaxation method); verify obtained results.\n",
    "\n",
    "## Given linear system\n",
    "\n",
    "\\begin{cases}\n",
    "    ax_1 + x_2 + ... + x_5 = 1 \\\\\n",
    "    x_1 + ax_2 + x_3 + ... + x_6 = 2 \\\\\n",
    "    x_1 + x_2 + ax_3 + x_4 + ... + x_7 = 3 \\\\\n",
    "    x_1 + x_2 + x_3 + ax_4 + x_5 + ... + x_8 = 4 \\\\\n",
    "    x_1 + x_2 + x_3 + x_4 + ax_5 + x_6 + ... + x_9 = 5 \\\\\n",
    "    x_2 + x_3 + x_4 + x_5 + ax_6 + x_7 + ... + x_{10} = 6 \\\\\n",
    "    ... \\\\\n",
    "    x_{k - 4} + ... + x_{k - 1} + ax_k + x_{k + 1} + ... + x_{k + 4} = k \\\\\n",
    "    ... \\\\\n",
    "    x_{93} + ... + x_{96} + ax_{97} + x_{98} + x_{99} + x_{100} = 97 \\\\\n",
    "    x_{94} + ... + x_{97} + ax_{98} + x_{99} + x_{100} = 98 \\\\\n",
    "    x_{95} + ... + x_{98} + ax_{99} + x_{100} = 99 \\\\\n",
    "    x_{96} + ... + x_{99} + ax_{100} = 100 \\\\\n",
    "\\end{cases}\n",
    "\n",
    "Where $a = 10$."
   ]
  },
  {
   "cell_type": "markdown",
   "metadata": {},
   "source": [
    "## Used norms\n",
    "\n",
    "Let $x$ be a n-dimensional vector and $A$ be a matrix of size $n \\times n$.\n",
    "\n",
    "### Norm №1\n",
    "\n",
    "\\begin{equation*}\n",
    "    \\|x\\|_1 = \\max\\limits_{i \\in {1, ..., n}} x_i\n",
    "\\end{equation*}\n",
    "\n",
    "\\begin{equation*}\n",
    "    \\|A\\|_1 = \\max\\limits_{i \\in {1, ..., n}} \\sum_{j = 1}^{n} |a_{ij}|\n",
    "\\end{equation*}\n",
    "\n",
    "### Norm №2\n",
    "\n",
    "\\begin{equation*}\n",
    "    \\|x\\|_2 = \\sum_{i = 1}^{n} |x_i|\n",
    "\\end{equation*}\n",
    "\n",
    "\\begin{equation*}\n",
    "    \\|A\\|_2 = \\max\\limits_{j \\in {1, ..., n}} \\sum_{i = 1}^{n} |a_{ij}|\n",
    "\\end{equation*}\n",
    "\n",
    "### Norm №3\n",
    "\n",
    "\\begin{equation*}\n",
    "    \\|x\\|_3 = \\sqrt{(x, x)}\n",
    "\\end{equation*}\n",
    "\n",
    "\\begin{equation*}\n",
    "    \\|A\\|_3 = \\max\\limits_{i \\in {1, ..., n}} \\sqrt{\\lambda_i (A^{\\ast} A)}\n",
    "\\end{equation*}"
   ]
  },
  {
   "cell_type": "code",
   "execution_count": 757,
   "metadata": {},
   "outputs": [],
   "source": [
    "import numpy as np"
   ]
  },
  {
   "cell_type": "markdown",
   "metadata": {},
   "source": [
    "## Helper functions"
   ]
  },
  {
   "cell_type": "code",
   "execution_count": 758,
   "metadata": {},
   "outputs": [],
   "source": [
    "def norm_1 (obj):\n",
    "    return np.linalg.norm(obj, ord = np.inf)\n",
    "\n",
    "def norm_2 (obj):\n",
    "    return np.linalg.norm(obj, ord = 1)\n",
    "\n",
    "def norm_3 (obj):\n",
    "    return np.linalg.norm(obj, ord = 2)\n",
    "\n",
    "def direct_method_residual (A, b, method, norm):\n",
    "    return norm(A @ method(A, b) - b)\n",
    "\n",
    "def iterative_method_residual (A, b, method, n_iters, norm):\n",
    "    return norm(A @ method(A, b, n_iters) - b)\n",
    "\n",
    "def check_correctness (A, b):\n",
    "    if A.shape[0] != A.shape[1]:\n",
    "        raise RuntimeError(\"Solving systems of linear equation with non-square matrix\"\n",
    "                           \"is not supported\")\n",
    "    if (A.shape[0] != b.shape[0]):\n",
    "        raise RuntimeError(\"Sizes of matrix and vector mismatch\")"
   ]
  },
  {
   "cell_type": "markdown",
   "metadata": {},
   "source": [
    "## Input data"
   ]
  },
  {
   "cell_type": "code",
   "execution_count": 759,
   "metadata": {},
   "outputs": [],
   "source": [
    "dim = 2\n",
    "a = 10\n",
    "\n",
    "A = np.diag(np.full(dim, a, dtype = float))\n",
    "for i in range(0, dim):\n",
    "    for j in range(max(0, i - 4), i):\n",
    "        A[i, j] = 1\n",
    "    for j in range(min(dim, i + 1), min(dim, i + 5)):\n",
    "        A[i, j] = 1\n",
    "\n",
    "b = np.arange (1, dim + 1, dtype = float)"
   ]
  },
  {
   "cell_type": "markdown",
   "metadata": {},
   "source": [
    "## LU decomposition"
   ]
  },
  {
   "cell_type": "code",
   "execution_count": 760,
   "metadata": {},
   "outputs": [],
   "source": [
    "def check_if_LU_defined (A):\n",
    "\n",
    "    for i in range (0, A.shape[0]):\n",
    "        if np.linalg.det(A[:i, :i]) == 0:\n",
    "            return False\n",
    "\n",
    "    return True\n",
    "\n",
    "def LU_decompose (A):\n",
    "\n",
    "    dim = A.shape[0]\n",
    "    L = np.eye(dim)\n",
    "    U = np.zeros((dim, dim))\n",
    "\n",
    "    for i in range (0, dim):\n",
    "        for j in range (0, i):\n",
    "            L[i, j] = (A[i, j] - sum(L[i, k] * U[k, j] for k in range (0, j))) / U[j, j]\n",
    "        for j in range (i, dim):\n",
    "            U[i, j] = A[i, j] - sum(L[i, k] * U[k, j] for k in range (0, i))\n",
    "\n",
    "    return L, U\n",
    "\n",
    "# A is supposed to be a lower triangular matrix\n",
    "def forward_substitution (A, b):\n",
    "\n",
    "    dim = A.shape[0]\n",
    "\n",
    "    x = np.empty(dim, dtype=float)\n",
    "    for i in range(0, dim):\n",
    "        x[i] = b[i] - sum(A[i, k] * x[k] for k in range (0, i)) / A[i, i]\n",
    "\n",
    "    return x\n",
    "\n",
    "# A is supposed to be an upper triangular matrix\n",
    "def back_substitution (A, b):\n",
    "\n",
    "    dim = A.shape[0]\n",
    "\n",
    "    x = np.empty(dim, dtype=float)\n",
    "    for i in range (dim - 1, -1, -1):\n",
    "        x[i] = (b[i] - sum(A[i, k] * x[k] for k in range (i + 1, dim))) / A[i, i]\n",
    "\n",
    "    return x\n",
    "\n",
    "def LU_decomposition (A_, b_):\n",
    "\n",
    "    check_correctness(A_, b_)\n",
    "\n",
    "    if not check_if_LU_defined(A_):\n",
    "        raise RuntimeError(\"LU decomposition for given matrix is undefined\")\n",
    "\n",
    "    A = A_.copy()\n",
    "    b = b_.copy()\n",
    "\n",
    "    L, U = LU_decompose (A)\n",
    "\n",
    "    return back_substitution(U, forward_substitution(L, b))"
   ]
  },
  {
   "cell_type": "markdown",
   "metadata": {},
   "source": [
    "## Gaussian elimination with pivoting"
   ]
  },
  {
   "cell_type": "code",
   "execution_count": 761,
   "metadata": {},
   "outputs": [],
   "source": [
    "def swap_rows (A, b, i, j):\n",
    "\n",
    "    A[[i, j]] = A[[j, i]]\n",
    "    b[i], b[j] = b[j], b[i]\n",
    "\n",
    "def find_pivot (A, i, j):\n",
    "\n",
    "    pivot_row = i\n",
    "    pivot = A[i, j]\n",
    "\n",
    "    for row_i in range (i, A.shape[0]):\n",
    "        elem = A[row_i][j]\n",
    "        if (abs(pivot) < abs(elem)):\n",
    "            pivot_row = row_i\n",
    "            pivot = elem\n",
    "\n",
    "    return pivot_row\n",
    "\n",
    "def gaussian_elimination (A_, b_):\n",
    "\n",
    "    check_correctness(A_, b_)\n",
    "\n",
    "    A = A_.copy()\n",
    "    b = b_.copy()\n",
    "    dim = A.shape[0]\n",
    "\n",
    "    for row_i in range (0, dim - 1):\n",
    "\n",
    "        pivot_row = find_pivot(A, row_i, row_i)\n",
    "\n",
    "        if (row_i != pivot_row):\n",
    "            swap_rows (A, b, row_i, pivot_row)\n",
    "\n",
    "        for j in range (row_i + 1, dim):\n",
    "            m = A[j, row_i] / A[row_i, row_i]\n",
    "            A[j] -= m * A[row_i]\n",
    "            b[j] -= m * b[row_i]\n",
    "\n",
    "    return back_substitution(A, b)"
   ]
  },
  {
   "cell_type": "markdown",
   "metadata": {},
   "source": [
    "## Jacobi method"
   ]
  },
  {
   "cell_type": "code",
   "execution_count": 762,
   "metadata": {},
   "outputs": [],
   "source": [
    "def Jacobi_method (A, b, n_iters):\n",
    "\n",
    "    check_correctness (A, b)\n",
    "\n",
    "    D = np.diag (np.diag (A))\n",
    "    M_0 = np.linalg.inv (D)\n",
    "    M_1 = M_0 @ b\n",
    "    M_2 = M_0 @ (A - D)\n",
    "\n",
    "    x = np.zeros (A.shape[0])\n",
    "    for k in range (0, n_iters):\n",
    "        x = M_1 - M_2 @ x\n",
    "\n",
    "    return x"
   ]
  },
  {
   "cell_type": "markdown",
   "metadata": {},
   "source": [
    "## Seidel method"
   ]
  },
  {
   "cell_type": "code",
   "execution_count": 763,
   "metadata": {},
   "outputs": [],
   "source": [
    "def Seidel_method (A, b, n_iters):\n",
    "\n",
    "    check_correctness (A, b)\n",
    "\n",
    "    LpD = np.tril(A)\n",
    "    M_0 = np.linalg.inv (LpD)\n",
    "    M_1 = M_0 @ b\n",
    "    M_2 = M_0 @ (A - LpD)\n",
    "\n",
    "    x = np.zeros (A.shape[0])\n",
    "    for k in range (0, n_iters):\n",
    "        x = M_1 - M_2 @ x\n",
    "\n",
    "    return x"
   ]
  },
  {
   "cell_type": "markdown",
   "metadata": {},
   "source": [
    "## Successive over-relaxation method"
   ]
  },
  {
   "cell_type": "code",
   "execution_count": 764,
   "metadata": {},
   "outputs": [],
   "source": [
    "def over_relaxation (A, b, n_iters):\n",
    "\n",
    "    check_correctness (A, b)\n",
    "\n",
    "    dim = A.shape[0]\n",
    "\n",
    "    w = 1.1\n",
    "    x = np.zeros(dim)\n",
    "    for k in range (0, n_iters):\n",
    "        for i in range (0, dim):\n",
    "            sigma = A[i][i] * x[i] - sum(A[i][j] * x[j] for j in range (0, dim))\n",
    "            x[i] = (1 - w) * x[i] + w * (b[i] + sigma) / A[i, i]\n",
    "\n",
    "    return x"
   ]
  }
 ],
 "metadata": {
  "kernelspec": {
   "display_name": "Python 3",
   "language": "python",
   "name": "python3"
  },
  "language_info": {
   "codemirror_mode": {
    "name": "ipython",
    "version": 3
   },
   "file_extension": ".py",
   "mimetype": "text/x-python",
   "name": "python",
   "nbconvert_exporter": "python",
   "pygments_lexer": "ipython3",
   "version": "3.10.12"
  }
 },
 "nbformat": 4,
 "nbformat_minor": 2
}
